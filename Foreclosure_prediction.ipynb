{
 "cells": [
  {
   "cell_type": "code",
   "execution_count": 1,
   "metadata": {
    "colab": {},
    "colab_type": "code",
    "id": "jmN8RyuAI1q9"
   },
   "outputs": [],
   "source": [
    "%reset -f"
   ]
  },
  {
   "cell_type": "code",
   "execution_count": 2,
   "metadata": {
    "colab": {
     "base_uri": "https://localhost:8080/",
     "height": 35
    },
    "colab_type": "code",
    "id": "4FaQVvkJI5df",
    "outputId": "60236f3f-38d8-4504-f04c-fcc23948eaf3"
   },
   "outputs": [
    {
     "data": {
      "text/plain": [
       "0"
      ]
     },
     "execution_count": 2,
     "metadata": {},
     "output_type": "execute_result"
    }
   ],
   "source": [
    "import gc\n",
    "gc.collect()"
   ]
  },
  {
   "cell_type": "code",
   "execution_count": 3,
   "metadata": {},
   "outputs": [
    {
     "data": {
      "text/plain": [
       "svmem(total=64384073728, available=63054004224, percent=2.1, used=615870464, free=51560865792, active=4153495552, inactive=8052359168, buffers=219156480, cached=11988180992, shared=73728, slab=417730560)"
      ]
     },
     "execution_count": 3,
     "metadata": {},
     "output_type": "execute_result"
    }
   ],
   "source": [
    "import psutil\n",
    "psutil.virtual_memory()"
   ]
  },
  {
   "cell_type": "markdown",
   "metadata": {
    "colab_type": "text",
    "id": "0rCaYWoKYsOQ"
   },
   "source": [
    "## Import Modules"
   ]
  },
  {
   "cell_type": "code",
   "execution_count": 4,
   "metadata": {
    "colab": {},
    "colab_type": "code",
    "id": "LVYZwQ1-Odqs"
   },
   "outputs": [],
   "source": [
    "import pandas as pd\n",
    "import numpy as np\n",
    "import os\n",
    "import math\n",
    "# plot module\n",
    "import matplotlib.pyplot as plt \n",
    "import seaborn as sns\n",
    "import statsmodels.api as sm\n",
    "# import lightgbm as lgb\n",
    "from sklearn.metrics import confusion_matrix, classification_report\n",
    "%matplotlib inline\n",
    "plt.rc(\"font\", size=14)\n",
    "import seaborn as sns\n",
    "sns.set(style=\"white\")\n",
    "sns.set(style=\"whitegrid\", color_codes=True)"
   ]
  },
  {
   "cell_type": "markdown",
   "metadata": {
    "colab_type": "text",
    "id": "_HmzZfaLZIop"
   },
   "source": [
    "## Read data"
   ]
  },
  {
   "cell_type": "code",
   "execution_count": 5,
   "metadata": {
    "colab": {
     "base_uri": "https://localhost:8080/",
     "height": 53
    },
    "colab_type": "code",
    "id": "m8Sug8b8fyN3",
    "outputId": "31a0bb26-3950-46b6-aecf-aaf3bb08e74a"
   },
   "outputs": [
    {
     "name": "stderr",
     "output_type": "stream",
     "text": [
      "/home/ec2-user/anaconda3/envs/python3/lib/python3.6/site-packages/IPython/core/interactiveshell.py:2785: DtypeWarning: Columns (0) have mixed types. Specify dtype option on import or set low_memory=False.\n",
      "  interactivity=interactivity, compiler=compiler, result=result)\n"
     ]
    }
   ],
   "source": [
    "df = pd.read_csv('all.csv') # full dataset"
   ]
  },
  {
   "cell_type": "code",
   "execution_count": 6,
   "metadata": {
    "colab": {},
    "colab_type": "code",
    "id": "95gnRU0eab-v"
   },
   "outputs": [],
   "source": [
    "# Check the data size\n",
    "# import sys\n",
    "# sys.getsizeof(df)"
   ]
  },
  {
   "cell_type": "markdown",
   "metadata": {
    "colab_type": "text",
    "id": "i9OnDTmoy9hh"
   },
   "source": [
    "## Data Cleaning"
   ]
  },
  {
   "cell_type": "markdown",
   "metadata": {
    "colab_type": "text",
    "id": "QNYtjzKMZs5c"
   },
   "source": [
    "### Drop unnecessary variables "
   ]
  },
  {
   "cell_type": "code",
   "execution_count": 7,
   "metadata": {
    "colab": {},
    "colab_type": "code",
    "id": "9-bXwP7ozB9R"
   },
   "outputs": [],
   "source": [
    "df = df.drop(['DocumentNumberFormatted', 'ATTOM_ID', 'TransID', 'SitusCounty', 'PropertyAddressZIP',\t'PropertyAddressZIP4', 'E_ZIP_CODE', 'ZIP', 'ZIP4', 'dr_ForeclosureRecordingDate','TaxAssessedValueImprovements','TaxAssessedValueLand','PreviousAssessedValue',\n",
    "             'TaxMarketValueImprovements','TaxMarketValueLand','TaxMarketImprovementsPerc','AssessorPriorSaleAmount', 'AssessorLastSaleDate'], axis = 1)\n"
   ]
  },
  {
   "cell_type": "markdown",
   "metadata": {
    "colab_type": "text",
    "id": "KYKyMyNiQLqr"
   },
   "source": [
    "### Drop Nan rows in \"TaxAssessedImprovementsPerc\""
   ]
  },
  {
   "cell_type": "code",
   "execution_count": 8,
   "metadata": {
    "colab": {},
    "colab_type": "code",
    "id": "WUwvU0hKljyu"
   },
   "outputs": [],
   "source": [
    "df = df.dropna(subset=['TaxAssessedImprovementsPerc'])"
   ]
  },
  {
   "cell_type": "markdown",
   "metadata": {
    "colab_type": "text",
    "id": "YK2CiQVsh4Ai"
   },
   "source": [
    "\n",
    "\n",
    "### 0 to null"
   ]
  },
  {
   "cell_type": "code",
   "execution_count": 9,
   "metadata": {
    "colab": {},
    "colab_type": "code",
    "id": "CUQnotzxHohJ"
   },
   "outputs": [],
   "source": [
    "nan_list = ['Mortgage1Amount', 'TaxAssessedValueTotal', 'TaxMarketValueTotal', 'RoomsCount']\n",
    "for col in nan_list:\n",
    "  df[col] = df[col].replace(0, np.NaN)\n",
    "  df[col] = df[col].replace(0.0, np.NaN)"
   ]
  },
  {
   "cell_type": "code",
   "execution_count": 10,
   "metadata": {
    "colab": {},
    "colab_type": "code",
    "id": "ckWBQH7Ri4g7"
   },
   "outputs": [],
   "source": [
    "e_var = ['E_DENSITY',\t'E_POP10',\t'E_HH10',\t'E_FAMMAR18',\t'E_NONFAMHH',\t'E_TRAVHOME',\t'E_OOCCHH',\t'E_ROCCHH',\t'E_MORTANY',\t'E_NOMORT',\t'E_MED_BLT',\t'E_POV_TOTAL',\t'E_MEDAGE',\t'E_MEDHHSIZE',\t'E_MEDRENT',\t'E_MEDVALOCC',\t'E_MEDHHINC','E_SQMILES']\n",
    "for i in e_var:\n",
    "  df.loc[df['E_SQMILES']==0, i] = np.NaN"
   ]
  },
  {
   "cell_type": "markdown",
   "metadata": {
    "colab_type": "text",
    "id": "2q1bKS5KPBRq"
   },
   "source": [
    "### Checking the portion of forclosure 0 before dropna & choose the percentage for dropping"
   ]
  },
  {
   "cell_type": "code",
   "execution_count": 11,
   "metadata": {
    "colab": {},
    "colab_type": "code",
    "id": "Hx1avsNQZCP7"
   },
   "outputs": [],
   "source": [
    "#checking missing%\n",
    "missing = pd.DataFrame(df.isna().sum(), columns = ['count'])\n",
    "missing['%'] = round(missing/len(df),2)\n",
    "missing = missing[missing['count'] != 0]"
   ]
  },
  {
   "cell_type": "code",
   "execution_count": 12,
   "metadata": {
    "colab": {
     "base_uri": "https://localhost:8080/",
     "height": 35
    },
    "colab_type": "code",
    "id": "6vahuIX0JgmP",
    "outputId": "4449ce9e-43ce-44b7-cecf-64d5fef24e7f"
   },
   "outputs": [
    {
     "data": {
      "text/plain": [
       "0.06362654136906327"
      ]
     },
     "execution_count": 12,
     "metadata": {},
     "output_type": "execute_result"
    }
   ],
   "source": [
    "# ogirinal forclosure portion\n",
    "df['dr_Foreclosure_Ind'].value_counts()[1]/len(df)"
   ]
  },
  {
   "cell_type": "code",
   "execution_count": 13,
   "metadata": {
    "colab": {
     "base_uri": "https://localhost:8080/",
     "height": 35
    },
    "colab_type": "code",
    "id": "OsDAz1NhJqQ2",
    "outputId": "4b9f85d6-d281-4875-d25d-2b2b6e95b6bb"
   },
   "outputs": [
    {
     "data": {
      "text/plain": [
       "0.06755177487602111"
      ]
     },
     "execution_count": 13,
     "metadata": {},
     "output_type": "execute_result"
    }
   ],
   "source": [
    "# forclosure portion after dropping null (in variables having null below 0.7; I tired various values and 0.7 is the best)\n",
    "missing_drop = missing[missing['%'] < 0.07].index.tolist()\n",
    "ndf = df.dropna(subset = missing_drop)\n",
    "ndf['dr_Foreclosure_Ind'].value_counts()[1]/len(ndf)"
   ]
  },
  {
   "cell_type": "markdown",
   "metadata": {
    "colab_type": "text",
    "id": "jsi6tOEjXSGJ"
   },
   "source": [
    "### drop na about some columns"
   ]
  },
  {
   "cell_type": "code",
   "execution_count": 14,
   "metadata": {
    "colab": {},
    "colab_type": "code",
    "id": "5ajtfwXMNIt1"
   },
   "outputs": [],
   "source": [
    "# dropping null (in variables having null below 0.7)\n",
    "df = df.dropna(subset = missing_drop)"
   ]
  },
  {
   "cell_type": "code",
   "execution_count": 15,
   "metadata": {
    "colab": {},
    "colab_type": "code",
    "id": "stFGh8cJNBAp"
   },
   "outputs": [],
   "source": [
    "#checking missing% again\n",
    "missing = pd.DataFrame(df.isna().sum(), columns = ['count'])\n",
    "missing['%'] = round(missing/len(df),2)\n",
    "missing = missing[missing['count'] != 0]"
   ]
  },
  {
   "cell_type": "code",
   "execution_count": 16,
   "metadata": {
    "colab": {
     "base_uri": "https://localhost:8080/",
     "height": 269
    },
    "colab_type": "code",
    "id": "o0P6zEDBNQ3g",
    "outputId": "a10c617b-7d21-499e-ebc3-df0b7d2d8685"
   },
   "outputs": [
    {
     "name": "stdout",
     "output_type": "stream",
     "text": [
      "<class 'pandas.core.frame.DataFrame'>\n",
      "Int64Index: 6474086 entries, 0 to 7237382\n",
      "Data columns (total 9 columns):\n",
      "Mortgage1Amount            float64\n",
      "StatusOwnerOccupiedFlag    float64\n",
      "AreaBuilding               float64\n",
      "RoomsCount                 float64\n",
      "dr_DepthToWidth            float64\n",
      "dr_YearBuilt               float64\n",
      "dr_Ins_Date                object\n",
      "dr_Ownership_Period        float64\n",
      "dr_House_Age               float64\n",
      "dtypes: float64(8), object(1)\n",
      "memory usage: 493.9+ MB\n"
     ]
    }
   ],
   "source": [
    "# Final missing value list\n",
    "df[missing.index].info()"
   ]
  },
  {
   "cell_type": "markdown",
   "metadata": {
    "colab_type": "text",
    "id": "pEuIlbaZoBbT"
   },
   "source": [
    "### Creating new columns for missing values (comebine this later)"
   ]
  },
  {
   "cell_type": "code",
   "execution_count": 17,
   "metadata": {
    "colab": {},
    "colab_type": "code",
    "id": "KlQIiWWBoScD"
   },
   "outputs": [],
   "source": [
    "# get column names having nan\n",
    "nan_check = df.columns[df.isna().any()].tolist()\n",
    "\n",
    "# make new columns to check nan\n",
    "mdf = pd.DataFrame()\n",
    "for i in nan_check:\n",
    "  v_name = i + '_Null'\n",
    "  mdf[v_name] = df[i].isnull().apply(lambda x:  1 if x == True else 0)"
   ]
  },
  {
   "cell_type": "markdown",
   "metadata": {
    "colab_type": "text",
    "id": "01g2DXGvXfFr"
   },
   "source": [
    "### Convert date to unixtime"
   ]
  },
  {
   "cell_type": "code",
   "execution_count": 18,
   "metadata": {
    "colab": {},
    "colab_type": "code",
    "id": "gIQds-_7s_bo"
   },
   "outputs": [],
   "source": [
    "def time_f(x):\n",
    "    try:\n",
    "        return time.mktime(datetime.datetime.strptime(x, \"%Y-%m-%d\").timetuple())\n",
    "    except:\n",
    "        return np.NaN"
   ]
  },
  {
   "cell_type": "code",
   "execution_count": 19,
   "metadata": {
    "colab": {},
    "colab_type": "code",
    "id": "fUuQXlcnXkaU"
   },
   "outputs": [],
   "source": [
    "import time\n",
    "import datetime\n",
    "\n",
    "\n",
    "df['dr_Ins_Date'] = df['dr_Ins_Date'].astype(str)\n",
    "df['dr_Ins_Date'] = df['dr_Ins_Date'].apply(lambda x: time_f(x))"
   ]
  },
  {
   "cell_type": "code",
   "execution_count": 20,
   "metadata": {
    "colab": {
     "base_uri": "https://localhost:8080/",
     "height": 224
    },
    "colab_type": "code",
    "id": "3fs8PKLRWBsa",
    "outputId": "685398c7-3ab7-4b38-981a-f6255eb75afb"
   },
   "outputs": [
    {
     "data": {
      "text/plain": [
       "0    1.197590e+09\n",
       "1    1.286323e+09\n",
       "2    1.355443e+09\n",
       "3    1.349136e+09\n",
       "4             NaN\n",
       "Name: dr_Ins_Date, dtype: float64"
      ]
     },
     "execution_count": 20,
     "metadata": {},
     "output_type": "execute_result"
    }
   ],
   "source": [
    "df['dr_Ins_Date'].head()"
   ]
  },
  {
   "cell_type": "markdown",
   "metadata": {
    "colab_type": "text",
    "id": "EfhafTBJxhO_"
   },
   "source": [
    "### One-hot-encoding"
   ]
  },
  {
   "cell_type": "code",
   "execution_count": 21,
   "metadata": {
    "colab": {},
    "colab_type": "code",
    "id": "vvN1sRUCxf8e"
   },
   "outputs": [],
   "source": [
    "df = pd.get_dummies(df, columns = ['dr_Value_Change'], prefix='dr_Value_Change')"
   ]
  },
  {
   "cell_type": "markdown",
   "metadata": {
    "colab_type": "text",
    "id": "vEYieUjVzZmo"
   },
   "source": [
    "### Combine missing check"
   ]
  },
  {
   "cell_type": "code",
   "execution_count": 22,
   "metadata": {
    "colab": {},
    "colab_type": "code",
    "id": "1-J0dJlNzcI9"
   },
   "outputs": [],
   "source": [
    "df = pd.concat([df, mdf], axis=1)"
   ]
  },
  {
   "cell_type": "markdown",
   "metadata": {
    "colab_type": "text",
    "id": "hD7PVSEVBO8N"
   },
   "source": [
    "### Impute Missing Value"
   ]
  },
  {
   "cell_type": "code",
   "execution_count": 23,
   "metadata": {
    "colab": {},
    "colab_type": "code",
    "id": "XHiB1lxp_n7r"
   },
   "outputs": [],
   "source": [
    "#checking missing% again\n",
    "missing = pd.DataFrame(df.isna().sum(), columns = ['count'])\n",
    "missing['%'] = round(missing/len(df),2)\n",
    "missing = missing[missing['count'] != 0]"
   ]
  },
  {
   "cell_type": "code",
   "execution_count": 24,
   "metadata": {
    "colab": {},
    "colab_type": "code",
    "id": "Bn8voqu6_gAT"
   },
   "outputs": [],
   "source": [
    "# median\n",
    "for i in missing.index:\n",
    "    df[i] = df[i].fillna(value=df[i].median())"
   ]
  },
  {
   "cell_type": "markdown",
   "metadata": {
    "colab_type": "text",
    "id": "6Y77GohoKQvR"
   },
   "source": [
    "## Standard Scaling"
   ]
  },
  {
   "cell_type": "code",
   "execution_count": 25,
   "metadata": {
    "colab": {},
    "colab_type": "code",
    "id": "UIpcOXoIY7Ls"
   },
   "outputs": [],
   "source": [
    "from sklearn.preprocessing import MinMaxScaler\n",
    "scaler = MinMaxScaler()\n",
    "scaler.fit(df)\n",
    "df_sc = scaler.transform(df)\n",
    "df_sc = pd.DataFrame(df_sc, columns=df.columns)"
   ]
  },
  {
   "cell_type": "code",
   "execution_count": 26,
   "metadata": {
    "colab": {
     "base_uri": "https://localhost:8080/",
     "height": 224
    },
    "colab_type": "code",
    "id": "IqQ5O0u1ZZij",
    "outputId": "6e8f1c58-e842-4342-9b72-1ca3c65932be"
   },
   "outputs": [
    {
     "data": {
      "text/html": [
       "<div>\n",
       "<style scoped>\n",
       "    .dataframe tbody tr th:only-of-type {\n",
       "        vertical-align: middle;\n",
       "    }\n",
       "\n",
       "    .dataframe tbody tr th {\n",
       "        vertical-align: top;\n",
       "    }\n",
       "\n",
       "    .dataframe thead th {\n",
       "        text-align: right;\n",
       "    }\n",
       "</style>\n",
       "<table border=\"1\" class=\"dataframe\">\n",
       "  <thead>\n",
       "    <tr style=\"text-align: right;\">\n",
       "      <th></th>\n",
       "      <th>Mortgage1Amount</th>\n",
       "      <th>StatusOwnerOccupiedFlag</th>\n",
       "      <th>TaxYearAssessed</th>\n",
       "      <th>TaxAssessedValueTotal</th>\n",
       "      <th>TaxAssessedImprovementsPerc</th>\n",
       "      <th>TaxMarketValueTotal</th>\n",
       "      <th>AssessorLastSaleAmount</th>\n",
       "      <th>AreaBuilding</th>\n",
       "      <th>RoomsCount</th>\n",
       "      <th>E_SQMILES</th>\n",
       "      <th>...</th>\n",
       "      <th>dr_Value_Change_NC</th>\n",
       "      <th>Mortgage1Amount_Null</th>\n",
       "      <th>StatusOwnerOccupiedFlag_Null</th>\n",
       "      <th>AreaBuilding_Null</th>\n",
       "      <th>RoomsCount_Null</th>\n",
       "      <th>dr_DepthToWidth_Null</th>\n",
       "      <th>dr_YearBuilt_Null</th>\n",
       "      <th>dr_Ins_Date_Null</th>\n",
       "      <th>dr_Ownership_Period_Null</th>\n",
       "      <th>dr_House_Age_Null</th>\n",
       "    </tr>\n",
       "  </thead>\n",
       "  <tbody>\n",
       "    <tr>\n",
       "      <th>0</th>\n",
       "      <td>0.000054</td>\n",
       "      <td>1.0</td>\n",
       "      <td>1.0</td>\n",
       "      <td>0.000317</td>\n",
       "      <td>0.008070</td>\n",
       "      <td>0.000317</td>\n",
       "      <td>0.000000</td>\n",
       "      <td>0.000074</td>\n",
       "      <td>0.000603</td>\n",
       "      <td>0.000373</td>\n",
       "      <td>...</td>\n",
       "      <td>0.0</td>\n",
       "      <td>0.0</td>\n",
       "      <td>1.0</td>\n",
       "      <td>0.0</td>\n",
       "      <td>1.0</td>\n",
       "      <td>1.0</td>\n",
       "      <td>0.0</td>\n",
       "      <td>0.0</td>\n",
       "      <td>1.0</td>\n",
       "      <td>0.0</td>\n",
       "    </tr>\n",
       "    <tr>\n",
       "      <th>1</th>\n",
       "      <td>0.000005</td>\n",
       "      <td>1.0</td>\n",
       "      <td>1.0</td>\n",
       "      <td>0.000247</td>\n",
       "      <td>0.008525</td>\n",
       "      <td>0.000247</td>\n",
       "      <td>0.000476</td>\n",
       "      <td>0.000094</td>\n",
       "      <td>0.000603</td>\n",
       "      <td>0.000373</td>\n",
       "      <td>...</td>\n",
       "      <td>0.0</td>\n",
       "      <td>0.0</td>\n",
       "      <td>0.0</td>\n",
       "      <td>0.0</td>\n",
       "      <td>1.0</td>\n",
       "      <td>0.0</td>\n",
       "      <td>1.0</td>\n",
       "      <td>0.0</td>\n",
       "      <td>0.0</td>\n",
       "      <td>1.0</td>\n",
       "    </tr>\n",
       "    <tr>\n",
       "      <th>2</th>\n",
       "      <td>0.000144</td>\n",
       "      <td>1.0</td>\n",
       "      <td>1.0</td>\n",
       "      <td>0.000288</td>\n",
       "      <td>0.009548</td>\n",
       "      <td>0.000288</td>\n",
       "      <td>0.000535</td>\n",
       "      <td>0.000076</td>\n",
       "      <td>0.000603</td>\n",
       "      <td>0.000373</td>\n",
       "      <td>...</td>\n",
       "      <td>0.0</td>\n",
       "      <td>0.0</td>\n",
       "      <td>1.0</td>\n",
       "      <td>0.0</td>\n",
       "      <td>1.0</td>\n",
       "      <td>1.0</td>\n",
       "      <td>0.0</td>\n",
       "      <td>0.0</td>\n",
       "      <td>0.0</td>\n",
       "      <td>0.0</td>\n",
       "    </tr>\n",
       "    <tr>\n",
       "      <th>3</th>\n",
       "      <td>0.000074</td>\n",
       "      <td>1.0</td>\n",
       "      <td>1.0</td>\n",
       "      <td>0.000194</td>\n",
       "      <td>0.009093</td>\n",
       "      <td>0.000194</td>\n",
       "      <td>0.000000</td>\n",
       "      <td>0.000062</td>\n",
       "      <td>0.000603</td>\n",
       "      <td>0.000373</td>\n",
       "      <td>...</td>\n",
       "      <td>0.0</td>\n",
       "      <td>1.0</td>\n",
       "      <td>0.0</td>\n",
       "      <td>0.0</td>\n",
       "      <td>1.0</td>\n",
       "      <td>1.0</td>\n",
       "      <td>0.0</td>\n",
       "      <td>0.0</td>\n",
       "      <td>0.0</td>\n",
       "      <td>0.0</td>\n",
       "    </tr>\n",
       "    <tr>\n",
       "      <th>4</th>\n",
       "      <td>0.000198</td>\n",
       "      <td>1.0</td>\n",
       "      <td>1.0</td>\n",
       "      <td>0.000207</td>\n",
       "      <td>0.007843</td>\n",
       "      <td>0.000207</td>\n",
       "      <td>0.000318</td>\n",
       "      <td>0.000065</td>\n",
       "      <td>0.000603</td>\n",
       "      <td>0.000373</td>\n",
       "      <td>...</td>\n",
       "      <td>0.0</td>\n",
       "      <td>0.0</td>\n",
       "      <td>0.0</td>\n",
       "      <td>0.0</td>\n",
       "      <td>1.0</td>\n",
       "      <td>0.0</td>\n",
       "      <td>0.0</td>\n",
       "      <td>1.0</td>\n",
       "      <td>0.0</td>\n",
       "      <td>0.0</td>\n",
       "    </tr>\n",
       "  </tbody>\n",
       "</table>\n",
       "<p>5 rows × 65 columns</p>\n",
       "</div>"
      ],
      "text/plain": [
       "   Mortgage1Amount  StatusOwnerOccupiedFlag  TaxYearAssessed  \\\n",
       "0         0.000054                      1.0              1.0   \n",
       "1         0.000005                      1.0              1.0   \n",
       "2         0.000144                      1.0              1.0   \n",
       "3         0.000074                      1.0              1.0   \n",
       "4         0.000198                      1.0              1.0   \n",
       "\n",
       "   TaxAssessedValueTotal  TaxAssessedImprovementsPerc  TaxMarketValueTotal  \\\n",
       "0               0.000317                     0.008070             0.000317   \n",
       "1               0.000247                     0.008525             0.000247   \n",
       "2               0.000288                     0.009548             0.000288   \n",
       "3               0.000194                     0.009093             0.000194   \n",
       "4               0.000207                     0.007843             0.000207   \n",
       "\n",
       "   AssessorLastSaleAmount  AreaBuilding  RoomsCount  E_SQMILES  ...  \\\n",
       "0                0.000000      0.000074    0.000603   0.000373  ...   \n",
       "1                0.000476      0.000094    0.000603   0.000373  ...   \n",
       "2                0.000535      0.000076    0.000603   0.000373  ...   \n",
       "3                0.000000      0.000062    0.000603   0.000373  ...   \n",
       "4                0.000318      0.000065    0.000603   0.000373  ...   \n",
       "\n",
       "   dr_Value_Change_NC  Mortgage1Amount_Null  StatusOwnerOccupiedFlag_Null  \\\n",
       "0                 0.0                   0.0                           1.0   \n",
       "1                 0.0                   0.0                           0.0   \n",
       "2                 0.0                   0.0                           1.0   \n",
       "3                 0.0                   1.0                           0.0   \n",
       "4                 0.0                   0.0                           0.0   \n",
       "\n",
       "   AreaBuilding_Null  RoomsCount_Null  dr_DepthToWidth_Null  \\\n",
       "0                0.0              1.0                   1.0   \n",
       "1                0.0              1.0                   0.0   \n",
       "2                0.0              1.0                   1.0   \n",
       "3                0.0              1.0                   1.0   \n",
       "4                0.0              1.0                   0.0   \n",
       "\n",
       "   dr_YearBuilt_Null  dr_Ins_Date_Null  dr_Ownership_Period_Null  \\\n",
       "0                0.0               0.0                       1.0   \n",
       "1                1.0               0.0                       0.0   \n",
       "2                0.0               0.0                       0.0   \n",
       "3                0.0               0.0                       0.0   \n",
       "4                0.0               1.0                       0.0   \n",
       "\n",
       "   dr_House_Age_Null  \n",
       "0                0.0  \n",
       "1                1.0  \n",
       "2                0.0  \n",
       "3                0.0  \n",
       "4                0.0  \n",
       "\n",
       "[5 rows x 65 columns]"
      ]
     },
     "execution_count": 26,
     "metadata": {},
     "output_type": "execute_result"
    }
   ],
   "source": [
    "df_sc.head()"
   ]
  },
  {
   "cell_type": "markdown",
   "metadata": {
    "colab_type": "text",
    "id": "M4eaLq2yBgXG"
   },
   "source": [
    "## SMOTE"
   ]
  },
  {
   "cell_type": "code",
   "execution_count": 27,
   "metadata": {
    "colab": {},
    "colab_type": "code",
    "id": "vUnGH5ZCsD7I"
   },
   "outputs": [],
   "source": [
    "from sklearn.model_selection import train_test_split\n",
    "X = df_sc.drop('dr_Foreclosure_Ind', axis=1)\n",
    "y = df_sc['dr_Foreclosure_Ind']\n",
    "X_train, X_test, y_train, y_test = train_test_split(X, y, test_size=0.4)"
   ]
  },
  {
   "cell_type": "code",
   "execution_count": 28,
   "metadata": {},
   "outputs": [
    {
     "data": {
      "text/plain": [
       "0.0    2415146\n",
       "1.0     174489\n",
       "Name: dr_Foreclosure_Ind, dtype: int64"
      ]
     },
     "execution_count": 28,
     "metadata": {},
     "output_type": "execute_result"
    }
   ],
   "source": [
    "y_test.value_counts()"
   ]
  },
  {
   "cell_type": "code",
   "execution_count": 29,
   "metadata": {},
   "outputs": [],
   "source": [
    "# !pip install imblearn"
   ]
  },
  {
   "cell_type": "code",
   "execution_count": 30,
   "metadata": {
    "colab": {
     "base_uri": "https://localhost:8080/",
     "height": 73
    },
    "colab_type": "code",
    "id": "Y1uLT9JwsEZu",
    "outputId": "22bbc6cd-cdde-4689-e926-600896304b72"
   },
   "outputs": [],
   "source": [
    "from imblearn.over_sampling import SMOTE\n",
    "smote = SMOTE( random_state=0)\n",
    "\n",
    "X_train, y_train = smote.fit_resample(X_train, y_train)"
   ]
  },
  {
   "cell_type": "markdown",
   "metadata": {
    "colab_type": "text",
    "id": "TY_b4PHQKVgK"
   },
   "source": [
    "## Fast.AI"
   ]
  },
  {
   "cell_type": "code",
   "execution_count": 31,
   "metadata": {},
   "outputs": [],
   "source": [
    "# !pip install jupyter notebook jupyter_contrib_nbextensions"
   ]
  },
  {
   "cell_type": "code",
   "execution_count": 32,
   "metadata": {
    "colab": {},
    "colab_type": "code",
    "id": "67tcGWWXMiUY"
   },
   "outputs": [],
   "source": [
    "from fastai.tabular import * "
   ]
  },
  {
   "cell_type": "code",
   "execution_count": 33,
   "metadata": {
    "colab": {},
    "colab_type": "code",
    "id": "abnf4pfwKXcc"
   },
   "outputs": [],
   "source": [
    "procs = [FillMissing, Normalize]\n",
    "valid_idx = range(len(df)-30000, len(df))\n",
    "dep_var = 'dr_Foreclosure_Ind'\n",
    "con = df.drop('dr_Foreclosure_Ind', axis=1).columns.tolist()"
   ]
  },
  {
   "cell_type": "code",
   "execution_count": 34,
   "metadata": {
    "colab": {},
    "colab_type": "code",
    "id": "fiMujeAGmy7g"
   },
   "outputs": [],
   "source": [
    "XX = pd.DataFrame(X_train, columns=df.drop('dr_Foreclosure_Ind', axis=1).columns)\n",
    "yy = pd.DataFrame(y_train, columns=['dr_Foreclosure_Ind'])\n",
    "ndf = pd.concat([XX, yy], axis=1)\n",
    "test_df = pd.DataFrame(X_test, columns=df.drop('dr_Foreclosure_Ind', axis=1).columns)"
   ]
  },
  {
   "cell_type": "code",
   "execution_count": 35,
   "metadata": {},
   "outputs": [],
   "source": [
    "path = '/home/ec2-user/SageMaker'"
   ]
  },
  {
   "cell_type": "code",
   "execution_count": 36,
   "metadata": {
    "colab": {},
    "colab_type": "code",
    "id": "8sSRV_kqk93-"
   },
   "outputs": [],
   "source": [
    "data = TabularDataBunch.from_df(path=path, df=ndf, \n",
    "                                dep_var=dep_var, \n",
    "                                valid_idx=valid_idx, \n",
    "                                cat_names=[], \n",
    "                                cont_names=con, \n",
    "#                                 bs=2048,\n",
    "                                procs=[],\n",
    "                                test_df=test_df)"
   ]
  },
  {
   "cell_type": "code",
   "execution_count": 37,
   "metadata": {
    "colab": {
     "base_uri": "https://localhost:8080/",
     "height": 362
    },
    "colab_type": "code",
    "id": "b48ZXLzeprZV",
    "outputId": "78212e61-a6f6-4b1f-b522-249f9ed6e4e0",
    "scrolled": false
   },
   "outputs": [],
   "source": [
    "learn = tabular_learner(data, layers=[200,100], wd=0.01, y_range=[0,1])"
   ]
  },
  {
   "cell_type": "code",
   "execution_count": 38,
   "metadata": {},
   "outputs": [],
   "source": [
    "# learn.lr_find()\n",
    "# learn.recorder.plot()"
   ]
  },
  {
   "cell_type": "code",
   "execution_count": 39,
   "metadata": {},
   "outputs": [
    {
     "data": {
      "text/html": [
       "<table border=\"1\" class=\"dataframe\">\n",
       "  <thead>\n",
       "    <tr style=\"text-align: left;\">\n",
       "      <th>epoch</th>\n",
       "      <th>train_loss</th>\n",
       "      <th>valid_loss</th>\n",
       "      <th>time</th>\n",
       "    </tr>\n",
       "  </thead>\n",
       "  <tbody>\n",
       "    <tr>\n",
       "      <td>0</td>\n",
       "      <td>0.143987</td>\n",
       "      <td>0.139661</td>\n",
       "      <td>12:31</td>\n",
       "    </tr>\n",
       "    <tr>\n",
       "      <td>1</td>\n",
       "      <td>0.135782</td>\n",
       "      <td>0.126163</td>\n",
       "      <td>12:33</td>\n",
       "    </tr>\n",
       "    <tr>\n",
       "      <td>2</td>\n",
       "      <td>0.137668</td>\n",
       "      <td>0.118449</td>\n",
       "      <td>12:33</td>\n",
       "    </tr>\n",
       "    <tr>\n",
       "      <td>3</td>\n",
       "      <td>0.134511</td>\n",
       "      <td>0.125898</td>\n",
       "      <td>12:34</td>\n",
       "    </tr>\n",
       "    <tr>\n",
       "      <td>4</td>\n",
       "      <td>0.127014</td>\n",
       "      <td>0.151021</td>\n",
       "      <td>12:33</td>\n",
       "    </tr>\n",
       "    <tr>\n",
       "      <td>5</td>\n",
       "      <td>0.119802</td>\n",
       "      <td>0.091099</td>\n",
       "      <td>12:32</td>\n",
       "    </tr>\n",
       "    <tr>\n",
       "      <td>6</td>\n",
       "      <td>0.121784</td>\n",
       "      <td>0.121380</td>\n",
       "      <td>12:35</td>\n",
       "    </tr>\n",
       "  </tbody>\n",
       "</table>"
      ],
      "text/plain": [
       "<IPython.core.display.HTML object>"
      ]
     },
     "metadata": {},
     "output_type": "display_data"
    }
   ],
   "source": [
    "learn.fit_one_cycle(7, 1.00E-03)"
   ]
  },
  {
   "cell_type": "code",
   "execution_count": 40,
   "metadata": {},
   "outputs": [],
   "source": [
    "# learn.unfreeze()"
   ]
  },
  {
   "cell_type": "code",
   "execution_count": 41,
   "metadata": {},
   "outputs": [],
   "source": [
    "# learn.fit_one_cycle(7,  max_lr=1e-2)"
   ]
  },
  {
   "cell_type": "code",
   "execution_count": 42,
   "metadata": {
    "colab": {},
    "colab_type": "code",
    "id": "iqo9OWlKq2bm"
   },
   "outputs": [],
   "source": [
    "test_preds, _ = learn.get_preds(ds_type=DatasetType.Test)\n",
    "target_preds = to_np(test_preds)\n",
    "target_preds = target_preds.reshape((target_preds.shape[0],))\n",
    "target_preds = pd.Series(target_preds)"
   ]
  },
  {
   "cell_type": "code",
   "execution_count": 64,
   "metadata": {
    "colab": {
     "base_uri": "https://localhost:8080/",
     "height": 53
    },
    "colab_type": "code",
    "id": "wao6WA8Fru9W",
    "outputId": "2a95823f-f251-43dd-bec1-9102ceeaf4a4"
   },
   "outputs": [
    {
     "name": "stdout",
     "output_type": "stream",
     "text": [
      "[[2034408  380738]\n",
      " [  54059  120430]]\n"
     ]
    }
   ],
   "source": [
    "prediction = target_preds.apply(lambda x: 1 if x>=.5 else 0)\n",
    "from sklearn.metrics import classification_report, confusion_matrix\n",
    "print(confusion_matrix(y_test,prediction))"
   ]
  },
  {
   "cell_type": "code",
   "execution_count": 65,
   "metadata": {
    "colab": {
     "base_uri": "https://localhost:8080/",
     "height": 35
    },
    "colab_type": "code",
    "id": "k47PP2miJ9iW",
    "outputId": "eb282284-b408-43b9-f4ae-da267d0e0977"
   },
   "outputs": [
    {
     "data": {
      "text/plain": [
       "0.8321"
      ]
     },
     "execution_count": 65,
     "metadata": {},
     "output_type": "execute_result"
    }
   ],
   "source": [
    "xx =confusion_matrix(y_test,prediction)[0][1] + confusion_matrix(y_test,prediction)[1][0]\n",
    "yy = xx + confusion_matrix(y_test,prediction)[0][0] + confusion_matrix(y_test,prediction)[1][1]\n",
    "round(1- (xx / yy),4)"
   ]
  },
  {
   "cell_type": "code",
   "execution_count": 66,
   "metadata": {},
   "outputs": [],
   "source": [
    "a1 = y_test.tolist()\n",
    "a2 = prediction.tolist()"
   ]
  },
  {
   "cell_type": "code",
   "execution_count": 67,
   "metadata": {},
   "outputs": [],
   "source": [
    "# data = {'Name':['Tom', 'nick', 'krish', 'jack'],\n",
    "#         'Age':[20, 21, 19, 18]}\n",
    "\n",
    "tab = {'actual': a1, 'pred': a2}"
   ]
  },
  {
   "cell_type": "code",
   "execution_count": 63,
   "metadata": {},
   "outputs": [],
   "source": [
    "x1 = pd.DataFrame(tab)"
   ]
  },
  {
   "cell_type": "code",
   "execution_count": 68,
   "metadata": {},
   "outputs": [],
   "source": [
    "x2 = pd.DataFrame(tab)"
   ]
  },
  {
   "cell_type": "code",
   "execution_count": 69,
   "metadata": {},
   "outputs": [],
   "source": [
    "x1.to_csv('93.csv')"
   ]
  },
  {
   "cell_type": "code",
   "execution_count": 70,
   "metadata": {},
   "outputs": [],
   "source": [
    "x2.to_csv('83.csv')"
   ]
  },
  {
   "cell_type": "code",
   "execution_count": 45,
   "metadata": {
    "colab": {
     "base_uri": "https://localhost:8080/",
     "height": 179
    },
    "colab_type": "code",
    "id": "ThJlsIMEurA7",
    "outputId": "0746a53f-6a95-459f-bec9-aeefb230ee03"
   },
   "outputs": [
    {
     "name": "stdout",
     "output_type": "stream",
     "text": [
      "              precision    recall  f1-score   support\n",
      "\n",
      "           0       0.84      0.97      0.90   2088467\n",
      "           1       0.69      0.24      0.36    501168\n",
      "\n",
      "    accuracy                           0.83   2589635\n",
      "   macro avg       0.77      0.61      0.63   2589635\n",
      "weighted avg       0.81      0.83      0.80   2589635\n",
      "\n"
     ]
    }
   ],
   "source": [
    "print(classification_report(prediction, y_test))"
   ]
  }
 ],
 "metadata": {
  "accelerator": "GPU",
  "colab": {
   "collapsed_sections": [],
   "machine_shape": "hm",
   "name": "spruce_test.ipynb",
   "provenance": [],
   "version": "0.3.2"
  },
  "kernelspec": {
   "display_name": "Python 3",
   "language": "python",
   "name": "python3"
  },
  "language_info": {
   "codemirror_mode": {
    "name": "ipython",
    "version": 3
   },
   "file_extension": ".py",
   "mimetype": "text/x-python",
   "name": "python",
   "nbconvert_exporter": "python",
   "pygments_lexer": "ipython3",
   "version": "3.7.1"
  }
 },
 "nbformat": 4,
 "nbformat_minor": 1
}
